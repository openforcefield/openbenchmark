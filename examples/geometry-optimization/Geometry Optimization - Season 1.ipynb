{
 "cells": [
  {
   "cell_type": "markdown",
   "metadata": {},
   "source": [
    "# Geometry Optimization - Season 1"
   ]
  },
  {
   "cell_type": "markdown",
   "metadata": {},
   "source": [
    "## One-shot local execution - no server/manager setup required"
   ]
  },
  {
   "cell_type": "code",
   "execution_count": 32,
   "metadata": {},
   "outputs": [
    {
     "name": "stdout",
     "output_type": "stream",
     "text": [
      "1/1 COMPLETE\r"
     ]
    }
   ],
   "source": [
    "! openff-benchmark optimize execute --season \"1:1\" --ncores 4 --delete-existing ethane.sdf one-shot-qm "
   ]
  },
  {
   "cell_type": "code",
   "execution_count": 33,
   "metadata": {},
   "outputs": [
    {
     "name": "stdout",
     "output_type": "stream",
     "text": [
      "\u001b[1;38;5;20mone-shot-qm\u001b[00m\n",
      "└── \u001b[1;38;5;20mdefault\u001b[00m\n",
      "    └── OFF-00000-00.sdf\n",
      "\n",
      "1 directory, 1 file\n"
     ]
    }
   ],
   "source": [
    "! tree one-shot-qm"
   ]
  },
  {
   "cell_type": "code",
   "execution_count": 11,
   "metadata": {},
   "outputs": [
    {
     "name": "stdout",
     "output_type": "stream",
     "text": [
      "5/5 COMPLETE\r"
     ]
    }
   ],
   "source": [
    "! openff-benchmark optimize execute --season \"1:2\" --ncores 4 --delete-existing one-shot-qm one-shot-mm"
   ]
  },
  {
   "cell_type": "code",
   "execution_count": 12,
   "metadata": {},
   "outputs": [
    {
     "name": "stdout",
     "output_type": "stream",
     "text": [
      "\u001b[1;38;5;20mone-shot-mm/\u001b[00m\n",
      "├── \u001b[1;38;5;20mgaff-2.11\u001b[00m\n",
      "│   └── OFF-00000-00.sdf\n",
      "├── \u001b[1;38;5;20mopenff-1.0.0\u001b[00m\n",
      "│   └── OFF-00000-00.sdf\n",
      "├── \u001b[1;38;5;20mopenff-1.1.1\u001b[00m\n",
      "│   └── OFF-00000-00.sdf\n",
      "├── \u001b[1;38;5;20mopenff-1.2.1\u001b[00m\n",
      "│   └── OFF-00000-00.sdf\n",
      "└── \u001b[1;38;5;20mopenff-1.3.0\u001b[00m\n",
      "    └── OFF-00000-00.sdf\n",
      "\n",
      "5 directories, 5 files\n"
     ]
    }
   ],
   "source": [
    "! tree one-shot-mm/"
   ]
  },
  {
   "cell_type": "markdown",
   "metadata": {},
   "source": [
    "## Persistent server/manager(s) approach"
   ]
  },
  {
   "cell_type": "markdown",
   "metadata": {},
   "source": [
    "First, from a shell, initialize and start a QCFractal Server with defaults appropriate to this benchmarking effort:\n",
    "\n",
    "```shell\n",
    "$ openff-benchmark fractal server-init\n",
    "$ openff-benchmark fractal server-start\n",
    "```"
   ]
  },
  {
   "cell_type": "markdown",
   "metadata": {},
   "source": [
    "On the same host, from a different shell, start up a QCFractal Manager:\n",
    "\n",
    "```\n",
    "$ qcfractal-manager --verify False\n",
    "```"
   ]
  },
  {
   "cell_type": "markdown",
   "metadata": {},
   "source": [
    "## Submission and export of QM"
   ]
  },
  {
   "cell_type": "code",
   "execution_count": 1,
   "metadata": {},
   "outputs": [
    {
     "name": "stdout",
     "output_type": "stream",
     "text": [
      "Usage: openff-benchmark optimize submit-molecules [OPTIONS] [INPUT_PATH]...\n",
      "\n",
      "Options:\n",
      "  --server-uri TEXT\n",
      "  --dataset-name TEXT  [required]\n",
      "  --season TEXT        [required]\n",
      "  --help               Show this message and exit.\n"
     ]
    }
   ],
   "source": [
    "! openff-benchmark optimize submit-molecules --help"
   ]
  },
  {
   "cell_type": "code",
   "execution_count": 3,
   "metadata": {},
   "outputs": [],
   "source": [
    "! openff-benchmark optimize submit-molecules --dataset-name \"Benchmark Optimization - QM\" --season \"1:1\" ethane.sdf"
   ]
  },
  {
   "cell_type": "markdown",
   "metadata": {},
   "source": [
    "Now, we wait for it to finish, then export:"
   ]
  },
  {
   "cell_type": "code",
   "execution_count": 10,
   "metadata": {},
   "outputs": [
    {
     "name": "stdout",
     "output_type": "stream",
     "text": [
      "              default\n",
      "OFF-00000-0  COMPLETE\n"
     ]
    }
   ],
   "source": [
    "! openff-benchmark optimize status --dataset-name \"Benchmark Optimization - QM\""
   ]
  },
  {
   "cell_type": "code",
   "execution_count": 11,
   "metadata": {},
   "outputs": [],
   "source": [
    "! openff-benchmark optimize export --dataset-name \"Benchmark Optimization - QM\" --delete-existing qm-results"
   ]
  },
  {
   "cell_type": "code",
   "execution_count": 12,
   "metadata": {},
   "outputs": [
    {
     "name": "stdout",
     "output_type": "stream",
     "text": [
      "\u001b[1;38;5;20mqm-results/\u001b[00m\n",
      "└── \u001b[1;38;5;20mdefault\u001b[00m\n",
      "    └── OFF-00000-00.sdf\n",
      "\n",
      "1 directory, 1 file\n"
     ]
    }
   ],
   "source": [
    "! tree qm-results/"
   ]
  },
  {
   "cell_type": "code",
   "execution_count": 13,
   "metadata": {},
   "outputs": [
    {
     "name": "stdout",
     "output_type": "stream",
     "text": [
      "OFF-00000-00\n",
      "     RDKit          3D\n",
      "\n",
      "  8  7  0  0  0  0  0  0  0  0999 V2000\n",
      "    0.8056   -0.5417    0.4965 C   0  0  0  0  0  0  0  0  0  0  0  0\n",
      "    2.1643   -0.0482   -0.0153 C   0  0  0  0  0  0  0  0  0  0  0  0\n",
      "   -0.0197   -0.0095    0.0111 H   0  0  0  0  0  0  0  0  0  0  0  0\n",
      "    0.6710   -1.6110    0.3000 H   0  0  0  0  0  0  0  0  0  0  0  0\n",
      "    0.7081   -0.3889    1.5769 H   0  0  0  0  0  0  0  0  0  0  0  0\n",
      "    2.9896   -0.5805    0.4700 H   0  0  0  0  0  0  0  0  0  0  0  0\n",
      "    2.2990    1.0211    0.1813 H   0  0  0  0  0  0  0  0  0  0  0  0\n",
      "    2.2618   -0.2009   -1.0957 H   0  0  0  0  0  0  0  0  0  0  0  0\n",
      "  1  2  1  0\n",
      "  1  3  1  0\n",
      "  1  4  1  0\n",
      "  1  5  1  0\n",
      "  2  6  1  0\n",
      "  2  7  1  0\n",
      "  2  8  1  0\n",
      "M  END\n",
      ">  <group_name>  (1) \n",
      "OFF\n",
      "\n",
      ">  <molecule_index>  (1) \n",
      "00000\n",
      "\n",
      ">  <conformer_index>  (1) \n",
      "00\n",
      "\n",
      ">  <method>  (1) \n",
      "b3lyp-d3bj\n",
      "\n",
      ">  <basis>  (1) \n",
      "dzvp\n",
      "\n",
      ">  <program>  (1) \n",
      "psi4\n",
      "\n",
      ">  <initial_energy>  (1) \n",
      "-79.843595874142835\n",
      "\n",
      ">  <final_energy>  (1) \n",
      "-79.844093812667595\n",
      "\n",
      "$$$$\n"
     ]
    }
   ],
   "source": [
    "! cat qm-results/default/OFF-00000-00.sdf"
   ]
  },
  {
   "cell_type": "markdown",
   "metadata": {},
   "source": [
    "## Submission and export of MM"
   ]
  },
  {
   "cell_type": "code",
   "execution_count": 15,
   "metadata": {},
   "outputs": [],
   "source": [
    "! openff-benchmark optimize submit-molecules --dataset-name \"Benchmark Optimization - MM\" --season \"1:2\" qm-results"
   ]
  },
  {
   "cell_type": "code",
   "execution_count": 28,
   "metadata": {},
   "outputs": [
    {
     "name": "stdout",
     "output_type": "stream",
     "text": [
      "            openff-1.0.0 openff-1.1.1 openff-1.2.1 openff-1.3.0 gaff-2.11\n",
      "OFF-00000-0     COMPLETE     COMPLETE     COMPLETE     COMPLETE  COMPLETE\n"
     ]
    }
   ],
   "source": [
    "! openff-benchmark optimize status --dataset-name \"Benchmark Optimization - MM\""
   ]
  },
  {
   "cell_type": "code",
   "execution_count": 29,
   "metadata": {},
   "outputs": [],
   "source": [
    "! openff-benchmark optimize export --dataset-name \"Benchmark Optimization - MM\" --delete-existing mm-results"
   ]
  },
  {
   "cell_type": "code",
   "execution_count": 30,
   "metadata": {},
   "outputs": [
    {
     "name": "stdout",
     "output_type": "stream",
     "text": [
      "\u001b[1;38;5;20mmm-results/\u001b[00m\n",
      "├── \u001b[1;38;5;20mgaff-2.11\u001b[00m\n",
      "│   └── OFF-00000-00.sdf\n",
      "├── \u001b[1;38;5;20mopenff-1.0.0\u001b[00m\n",
      "│   └── OFF-00000-00.sdf\n",
      "├── \u001b[1;38;5;20mopenff-1.1.1\u001b[00m\n",
      "│   └── OFF-00000-00.sdf\n",
      "├── \u001b[1;38;5;20mopenff-1.2.1\u001b[00m\n",
      "│   └── OFF-00000-00.sdf\n",
      "└── \u001b[1;38;5;20mopenff-1.3.0\u001b[00m\n",
      "    └── OFF-00000-00.sdf\n",
      "\n",
      "5 directories, 5 files\n"
     ]
    }
   ],
   "source": [
    "! tree mm-results/"
   ]
  },
  {
   "cell_type": "code",
   "execution_count": 31,
   "metadata": {},
   "outputs": [
    {
     "name": "stdout",
     "output_type": "stream",
     "text": [
      "OFF-00000-00\n",
      "     RDKit          3D\n",
      "\n",
      "  8  7  0  0  0  0  0  0  0  0999 V2000\n",
      "    0.8026   -0.5428    0.4977 C   0  0  0  0  0  0  0  0  0  0  0  0\n",
      "    2.1673   -0.0471   -0.0165 C   0  0  0  0  0  0  0  0  0  0  0  0\n",
      "   -0.0156   -0.0029    0.0047 H   0  0  0  0  0  0  0  0  0  0  0  0\n",
      "    0.6792   -1.6143    0.2954 H   0  0  0  0  0  0  0  0  0  0  0  0\n",
      "    0.7166   -0.3847    1.5801 H   0  0  0  0  0  0  0  0  0  0  0  0\n",
      "    2.9856   -0.5871    0.4764 H   0  0  0  0  0  0  0  0  0  0  0  0\n",
      "    2.2907    1.0243    0.1859 H   0  0  0  0  0  0  0  0  0  0  0  0\n",
      "    2.2533   -0.2051   -1.0989 H   0  0  0  0  0  0  0  0  0  0  0  0\n",
      "  1  2  1  0\n",
      "  1  3  1  0\n",
      "  1  4  1  0\n",
      "  1  5  1  0\n",
      "  2  6  1  0\n",
      "  2  7  1  0\n",
      "  2  8  1  0\n",
      "M  END\n",
      ">  <group_name>  (1) \n",
      "OFF\n",
      "\n",
      ">  <molecule_index>  (1) \n",
      "00000\n",
      "\n",
      ">  <conformer_index>  (1) \n",
      "00\n",
      "\n",
      ">  <method>  (1) \n",
      "gaff-2.11\n",
      "\n",
      ">  <basis>  (1) \n",
      "antechamber\n",
      "\n",
      ">  <program>  (1) \n",
      "openmm\n",
      "\n",
      ">  <initial_energy>  (1) \n",
      "0.0017998298669153223\n",
      "\n",
      ">  <final_energy>  (1) \n",
      "0.0016540709674565752\n",
      "\n",
      "$$$$\n",
      "OFF-00000-00\n",
      "     RDKit          3D\n",
      "\n",
      "  8  7  0  0  0  0  0  0  0  0999 V2000\n",
      "    0.8101   -0.5401    0.4948 C   0  0  0  0  0  0  0  0  0  0  0  0\n",
      "    2.1598   -0.0498   -0.0136 C   0  0  0  0  0  0  0  0  0  0  0  0\n",
      "    0.0111    0.0104   -0.0088 H   0  0  0  0  0  0  0  0  0  0  0  0\n",
      "    0.7090   -1.6079    0.2831 H   0  0  0  0  0  0  0  0  0  0  0  0\n",
      "    0.7465   -0.3730    1.5734 H   0  0  0  0  0  0  0  0  0  0  0  0\n",
      "    2.9588   -0.6004    0.4900 H   0  0  0  0  0  0  0  0  0  0  0  0\n",
      "    2.2610    1.0180    0.1982 H   0  0  0  0  0  0  0  0  0  0  0  0\n",
      "    2.2234   -0.2168   -1.0922 H   0  0  0  0  0  0  0  0  0  0  0  0\n",
      "  1  2  1  0\n",
      "  1  3  1  0\n",
      "  1  4  1  0\n",
      "  1  5  1  0\n",
      "  2  6  1  0\n",
      "  2  7  1  0\n",
      "  2  8  1  0\n",
      "M  END\n",
      ">  <group_name>  (1) \n",
      "OFF\n",
      "\n",
      ">  <molecule_index>  (1) \n",
      "00000\n",
      "\n",
      ">  <conformer_index>  (1) \n",
      "00\n",
      "\n",
      ">  <method>  (1) \n",
      "openff-1.0.0\n",
      "\n",
      ">  <basis>  (1) \n",
      "smirnoff\n",
      "\n",
      ">  <program>  (1) \n",
      "openmm\n",
      "\n",
      ">  <initial_energy>  (1) \n",
      "0.003601371194455315\n",
      "\n",
      ">  <final_energy>  (1) \n",
      "0.0025628566499447023\n",
      "\n",
      "$$$$\n",
      "OFF-00000-00\n",
      "     RDKit          3D\n",
      "\n",
      "  8  7  0  0  0  0  0  0  0  0999 V2000\n",
      "    0.8101   -0.5401    0.4949 C   0  0  0  0  0  0  0  0  0  0  0  0\n",
      "    2.1599   -0.0498   -0.0137 C   0  0  0  0  0  0  0  0  0  0  0  0\n",
      "    0.0111    0.0104   -0.0088 H   0  0  0  0  0  0  0  0  0  0  0  0\n",
      "    0.7090   -1.6078    0.2831 H   0  0  0  0  0  0  0  0  0  0  0  0\n",
      "    0.7464   -0.3730    1.5733 H   0  0  0  0  0  0  0  0  0  0  0  0\n",
      "    2.9588   -0.6004    0.4899 H   0  0  0  0  0  0  0  0  0  0  0  0\n",
      "    2.2610    1.0179    0.1982 H   0  0  0  0  0  0  0  0  0  0  0  0\n",
      "    2.2234   -0.2168   -1.0922 H   0  0  0  0  0  0  0  0  0  0  0  0\n",
      "  1  2  1  0\n",
      "  1  3  1  0\n",
      "  1  4  1  0\n",
      "  1  5  1  0\n",
      "  2  6  1  0\n",
      "  2  7  1  0\n",
      "  2  8  1  0\n",
      "M  END\n",
      ">  <group_name>  (1) \n",
      "OFF\n",
      "\n",
      ">  <molecule_index>  (1) \n",
      "00000\n",
      "\n",
      ">  <conformer_index>  (1) \n",
      "00\n",
      "\n",
      ">  <method>  (1) \n",
      "openff-1.1.1\n",
      "\n",
      ">  <basis>  (1) \n",
      "smirnoff\n",
      "\n",
      ">  <program>  (1) \n",
      "openmm\n",
      "\n",
      ">  <initial_energy>  (1) \n",
      "0.0037978368476852533\n",
      "\n",
      ">  <final_energy>  (1) \n",
      "0.0027635308621450105\n",
      "\n",
      "$$$$\n",
      "OFF-00000-00\n",
      "     RDKit          3D\n",
      "\n",
      "  8  7  0  0  0  0  0  0  0  0999 V2000\n",
      "    0.8100   -0.5402    0.4949 C   0  0  0  0  0  0  0  0  0  0  0  0\n",
      "    2.1600   -0.0497   -0.0137 C   0  0  0  0  0  0  0  0  0  0  0  0\n",
      "    0.0006    0.0039   -0.0022 H   0  0  0  0  0  0  0  0  0  0  0  0\n",
      "    0.6962   -1.6091    0.2887 H   0  0  0  0  0  0  0  0  0  0  0  0\n",
      "    0.7336   -0.3783    1.5748 H   0  0  0  0  0  0  0  0  0  0  0  0\n",
      "    2.9693   -0.5938    0.4834 H   0  0  0  0  0  0  0  0  0  0  0  0\n",
      "    2.2737    1.0192    0.1926 H   0  0  0  0  0  0  0  0  0  0  0  0\n",
      "    2.2363   -0.2115   -1.0936 H   0  0  0  0  0  0  0  0  0  0  0  0\n",
      "  1  2  1  0\n",
      "  1  3  1  0\n",
      "  1  4  1  0\n",
      "  1  5  1  0\n",
      "  2  6  1  0\n",
      "  2  7  1  0\n",
      "  2  8  1  0\n",
      "M  END\n",
      ">  <group_name>  (1) \n",
      "OFF\n",
      "\n",
      ">  <molecule_index>  (1) \n",
      "00000\n",
      "\n",
      ">  <conformer_index>  (1) \n",
      "00\n",
      "\n",
      ">  <method>  (1) \n",
      "openff-1.2.1\n",
      "\n",
      ">  <basis>  (1) \n",
      "smirnoff\n",
      "\n",
      ">  <program>  (1) \n",
      "openmm\n",
      "\n",
      ">  <initial_energy>  (1) \n",
      "0.0023472055853915805\n",
      "\n",
      ">  <final_energy>  (1) \n",
      "0.001917122403971691\n",
      "\n",
      "$$$$\n",
      "OFF-00000-00\n",
      "     RDKit          3D\n",
      "\n",
      "  8  7  0  0  0  0  0  0  0  0999 V2000\n",
      "    0.8100   -0.5402    0.4949 C   0  0  0  0  0  0  0  0  0  0  0  0\n",
      "    2.1599   -0.0497   -0.0137 C   0  0  0  0  0  0  0  0  0  0  0  0\n",
      "    0.0004    0.0033   -0.0017 H   0  0  0  0  0  0  0  0  0  0  0  0\n",
      "    0.6956   -1.6088    0.2891 H   0  0  0  0  0  0  0  0  0  0  0  0\n",
      "    0.7329   -0.3787    1.5744 H   0  0  0  0  0  0  0  0  0  0  0  0\n",
      "    2.9696   -0.5933    0.4828 H   0  0  0  0  0  0  0  0  0  0  0  0\n",
      "    2.2744    1.0189    0.1922 H   0  0  0  0  0  0  0  0  0  0  0  0\n",
      "    2.2370   -0.2112   -1.0932 H   0  0  0  0  0  0  0  0  0  0  0  0\n",
      "  1  2  1  0\n",
      "  1  3  1  0\n",
      "  1  4  1  0\n",
      "  1  5  1  0\n",
      "  2  6  1  0\n",
      "  2  7  1  0\n",
      "  2  8  1  0\n",
      "M  END\n",
      ">  <group_name>  (1) \n",
      "OFF\n",
      "\n",
      ">  <molecule_index>  (1) \n",
      "00000\n",
      "\n",
      ">  <conformer_index>  (1) \n",
      "00\n",
      "\n",
      ">  <method>  (1) \n",
      "openff-1.3.0\n",
      "\n",
      ">  <basis>  (1) \n",
      "smirnoff\n",
      "\n",
      ">  <program>  (1) \n",
      "openmm\n",
      "\n",
      ">  <initial_energy>  (1) \n",
      "0.0067858989522932723\n",
      "\n",
      ">  <final_energy>  (1) \n",
      "0.006364621723898462\n",
      "\n",
      "$$$$\n"
     ]
    }
   ],
   "source": [
    "! cat mm-results/*/*.sdf"
   ]
  }
 ],
 "metadata": {
  "kernelspec": {
   "display_name": "Python 3",
   "language": "python",
   "name": "python3"
  },
  "language_info": {
   "codemirror_mode": {
    "name": "ipython",
    "version": 3
   },
   "file_extension": ".py",
   "mimetype": "text/x-python",
   "name": "python",
   "nbconvert_exporter": "python",
   "pygments_lexer": "ipython3",
   "version": "3.7.8"
  }
 },
 "nbformat": 4,
 "nbformat_minor": 4
}
